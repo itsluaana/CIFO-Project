{
 "cells": [
  {
   "cell_type": "markdown",
   "metadata": {},
   "source": [
    "# Import Libraries"
   ]
  },
  {
   "cell_type": "code",
   "execution_count": 1,
   "metadata": {},
   "outputs": [
    {
     "name": "stdout",
     "output_type": "stream",
     "text": [
      "Note: you may need to restart the kernel to use updated packages.\n"
     ]
    },
    {
     "name": "stderr",
     "output_type": "stream",
     "text": [
      "\n",
      "[notice] A new release of pip is available: 25.0.1 -> 25.1.1\n",
      "[notice] To update, run: python.exe -m pip install --upgrade pip\n",
      "ERROR: Could not open requirements file: [Errno 2] No such file or directory: 'requirements.txt'\n"
     ]
    }
   ],
   "source": [
    "pip install -r requirements.txt\n"
   ]
  },
  {
   "cell_type": "code",
   "execution_count": 2,
   "metadata": {},
   "outputs": [],
   "source": [
    "import sys\n",
    "sys.path.append('..')"
   ]
  },
  {
   "cell_type": "code",
   "execution_count": null,
   "metadata": {},
   "outputs": [],
   "source": [
    "import random\n",
    "from copy import deepcopy\n",
    "from lib.Projectsolution import Solution\n",
    "import pandas as pd\n",
    "from sklearn.preprocessing import MinMaxScaler\n",
    "from itertools import product"
   ]
  },
  {
   "cell_type": "code",
   "execution_count": null,
   "metadata": {},
   "outputs": [],
   "source": [
    "import importlib\n",
    "import lib.genetic_algorithm\n",
    "import lib.crossover\n",
    "import lib.mutation\n",
    "import lib.fitness\n",
    "import lib.selection\n",
    "import lib.Projectsolution\n",
    "\n",
    "importlib.reload(lib.genetic_algorithm)\n",
    "importlib.reload(lib.crossover)\n",
    "importlib.reload(lib.mutation)\n",
    "importlib.reload(lib.fitness)\n",
    "importlib.reload(lib.selection)\n",
    "importlib.reload(lib.Projectsolution)\n",
    "\n",
    "from lib.genetic_algorithm import genetic_algorithm\n",
    "from lib.crossover import pmx_crossover, order_crossover\n",
    "from lib.mutation import swap_mutation, inversion_mutation, insertion_mutation\n",
    "from lib.fitness import fitness\n",
    "from lib.selection import tournament_selection, ranking_selection\n",
    "from lib.Projectsolution import Solution\n",
    "\n"
   ]
  },
  {
   "cell_type": "markdown",
   "metadata": {},
   "source": [
    "# Import Data"
   ]
  },
  {
   "cell_type": "code",
   "execution_count": 6,
   "metadata": {},
   "outputs": [
    {
     "name": "stdout",
     "output_type": "stream",
     "text": [
      "   Unnamed: 0             name       genre  popularity\n",
      "0           0    Midnight Echo        Rock          75\n",
      "1           1      Solar Flare  Electronic          78\n",
      "2           2     Velvet Pulse        Jazz          35\n",
      "3           3     Neon Reverie  Electronic         100\n",
      "4           4  The Silver Owls   Classical          85\n",
      "\n",
      " Number of artists: 35\n"
     ]
    }
   ],
   "source": [
    "# Load artists data\n",
    "artists_df = pd.read_csv(r\"C:\\Users\\anama\\OneDrive\\Ambiente de Trabalho\\Mestrado\\S2\\CIFO\\data\\artists(in).csv\")\n",
    "\n",
    "# Preview the first few rows\n",
    "print(artists_df.head())\n",
    "\n",
    "print(f\"\\n Number of artists: {len(artists_df)}\")"
   ]
  },
  {
   "cell_type": "code",
   "execution_count": 7,
   "metadata": {},
   "outputs": [
    {
     "name": "stdout",
     "output_type": "stream",
     "text": [
      "   id             name       genre  popularity\n",
      "0   0    Midnight Echo        Rock          75\n",
      "1   1      Solar Flare  Electronic          78\n",
      "2   2     Velvet Pulse        Jazz          35\n",
      "3   3     Neon Reverie  Electronic         100\n",
      "4   4  The Silver Owls   Classical          85\n"
     ]
    }
   ],
   "source": [
    "# Rename the column\n",
    "artists_df.rename(columns={\"Unnamed: 0\": \"id\"}, inplace=True)\n",
    "\n",
    "# Confirm the change\n",
    "print(artists_df.head())"
   ]
  },
  {
   "cell_type": "code",
   "execution_count": 8,
   "metadata": {},
   "outputs": [
    {
     "name": "stdout",
     "output_type": "stream",
     "text": [
      "        genre  genre_code\n",
      "0        Rock           0\n",
      "1  Electronic           1\n",
      "2        Jazz           2\n",
      "3  Electronic           1\n",
      "4   Classical           3\n"
     ]
    }
   ],
   "source": [
    "artists_df['genre_code'], genre_uniques = pd.factorize(artists_df['genre'])\n",
    "\n",
    "print(artists_df[['genre', 'genre_code']].head())"
   ]
  },
  {
   "cell_type": "code",
   "execution_count": 9,
   "metadata": {},
   "outputs": [],
   "source": [
    "# Normalize the 'popularity' column \n",
    "popularity = artists_df[['popularity']].values  \n",
    "scaler = MinMaxScaler()\n",
    "artists_df['popularity_norm'] = scaler.fit_transform(popularity)\n"
   ]
  },
  {
   "cell_type": "code",
   "execution_count": 24,
   "metadata": {},
   "outputs": [],
   "source": [
    "class Artist:\n",
    "    def __init__(self, id, name, popularity, genre, genre_code, popularity_norm):\n",
    "        self.id = id\n",
    "        self.name = name\n",
    "        self.popularity = popularity\n",
    "        self.genre = genre\n",
    "        self.genre_code = genre_code\n",
    "        self.popularity_norm = popularity_norm\n",
    "\n",
    "    def __repr__(self):\n",
    "        return f\"{self.name} (Pop: {self.popularity}, Genre: {self.genre}, NormPop: {self.popularity_norm})\"\n",
    "\n",
    "\n",
    "# Convert to list of Artist objects\n",
    "artists = [\n",
    "    Artist(row[\"id\"], row[\"name\"], row[\"popularity\"], row[\"genre\"], row[\"genre_code\"], row['popularity_norm'])\n",
    "    for _, row in artists_df.iterrows()\n",
    "]"
   ]
  },
  {
   "cell_type": "code",
   "execution_count": 11,
   "metadata": {},
   "outputs": [
    {
     "name": "stdout",
     "output_type": "stream",
     "text": [
      "Conflict matrix shape: (35, 35)\n"
     ]
    }
   ],
   "source": [
    "# Try to load with headers and index\n",
    "conflict_df = pd.read_csv(r\"C:\\Users\\anama\\OneDrive\\Ambiente de Trabalho\\Mestrado\\S2\\CIFO\\data\\conflicts(in).csv\", index_col=0)\n",
    "\n",
    "# Convert to NumPy matrix for easier computation later\n",
    "conflict_matrix = conflict_df.to_numpy()\n",
    "\n",
    "# Check matrix size\n",
    "print(\"Conflict matrix shape:\", conflict_matrix.shape)"
   ]
  },
  {
   "cell_type": "code",
   "execution_count": 12,
   "metadata": {},
   "outputs": [
    {
     "data": {
      "text/plain": [
       "array([[0. , 0. , 0. , 0.2, 0.5],\n",
       "       [0. , 0. , 0. , 1. , 0. ],\n",
       "       [0. , 0. , 0. , 1. , 0.5],\n",
       "       [0.2, 1. , 1. , 0. , 0.2],\n",
       "       [0.5, 0. , 0.5, 0.2, 0. ]])"
      ]
     },
     "execution_count": 12,
     "metadata": {},
     "output_type": "execute_result"
    }
   ],
   "source": [
    "conflict_matrix[:5, :5]  "
   ]
  },
  {
   "cell_type": "code",
   "execution_count": 13,
   "metadata": {},
   "outputs": [
    {
     "data": {
      "application/vnd.microsoft.datawrangler.viewer.v0+json": {
       "columns": [
        {
         "name": "index",
         "rawType": "int64",
         "type": "integer"
        },
        {
         "name": "id",
         "rawType": "int64",
         "type": "integer"
        },
        {
         "name": "name",
         "rawType": "object",
         "type": "string"
        },
        {
         "name": "genre",
         "rawType": "object",
         "type": "string"
        },
        {
         "name": "popularity",
         "rawType": "int64",
         "type": "integer"
        },
        {
         "name": "genre_code",
         "rawType": "int64",
         "type": "integer"
        },
        {
         "name": "popularity_norm",
         "rawType": "float64",
         "type": "float"
        }
       ],
       "conversionMethod": "pd.DataFrame",
       "ref": "9793d718-a449-423b-b7f3-529e7b473454",
       "rows": [
        [
         "0",
         "0",
         "Midnight Echo",
         "Rock",
         "75",
         "0",
         "0.6875"
        ],
        [
         "1",
         "1",
         "Solar Flare",
         "Electronic",
         "78",
         "1",
         "0.7250000000000001"
        ],
        [
         "2",
         "2",
         "Velvet Pulse",
         "Jazz",
         "35",
         "2",
         "0.1875"
        ],
        [
         "3",
         "3",
         "Neon Reverie",
         "Electronic",
         "100",
         "1",
         "1.0"
        ],
        [
         "4",
         "4",
         "The Silver Owls",
         "Classical",
         "85",
         "3",
         "0.8125"
        ]
       ],
       "shape": {
        "columns": 6,
        "rows": 5
       }
      },
      "text/html": [
       "<div>\n",
       "<style scoped>\n",
       "    .dataframe tbody tr th:only-of-type {\n",
       "        vertical-align: middle;\n",
       "    }\n",
       "\n",
       "    .dataframe tbody tr th {\n",
       "        vertical-align: top;\n",
       "    }\n",
       "\n",
       "    .dataframe thead th {\n",
       "        text-align: right;\n",
       "    }\n",
       "</style>\n",
       "<table border=\"1\" class=\"dataframe\">\n",
       "  <thead>\n",
       "    <tr style=\"text-align: right;\">\n",
       "      <th></th>\n",
       "      <th>id</th>\n",
       "      <th>name</th>\n",
       "      <th>genre</th>\n",
       "      <th>popularity</th>\n",
       "      <th>genre_code</th>\n",
       "      <th>popularity_norm</th>\n",
       "    </tr>\n",
       "  </thead>\n",
       "  <tbody>\n",
       "    <tr>\n",
       "      <th>0</th>\n",
       "      <td>0</td>\n",
       "      <td>Midnight Echo</td>\n",
       "      <td>Rock</td>\n",
       "      <td>75</td>\n",
       "      <td>0</td>\n",
       "      <td>0.6875</td>\n",
       "    </tr>\n",
       "    <tr>\n",
       "      <th>1</th>\n",
       "      <td>1</td>\n",
       "      <td>Solar Flare</td>\n",
       "      <td>Electronic</td>\n",
       "      <td>78</td>\n",
       "      <td>1</td>\n",
       "      <td>0.7250</td>\n",
       "    </tr>\n",
       "    <tr>\n",
       "      <th>2</th>\n",
       "      <td>2</td>\n",
       "      <td>Velvet Pulse</td>\n",
       "      <td>Jazz</td>\n",
       "      <td>35</td>\n",
       "      <td>2</td>\n",
       "      <td>0.1875</td>\n",
       "    </tr>\n",
       "    <tr>\n",
       "      <th>3</th>\n",
       "      <td>3</td>\n",
       "      <td>Neon Reverie</td>\n",
       "      <td>Electronic</td>\n",
       "      <td>100</td>\n",
       "      <td>1</td>\n",
       "      <td>1.0000</td>\n",
       "    </tr>\n",
       "    <tr>\n",
       "      <th>4</th>\n",
       "      <td>4</td>\n",
       "      <td>The Silver Owls</td>\n",
       "      <td>Classical</td>\n",
       "      <td>85</td>\n",
       "      <td>3</td>\n",
       "      <td>0.8125</td>\n",
       "    </tr>\n",
       "  </tbody>\n",
       "</table>\n",
       "</div>"
      ],
      "text/plain": [
       "   id             name       genre  popularity  genre_code  popularity_norm\n",
       "0   0    Midnight Echo        Rock          75           0           0.6875\n",
       "1   1      Solar Flare  Electronic          78           1           0.7250\n",
       "2   2     Velvet Pulse        Jazz          35           2           0.1875\n",
       "3   3     Neon Reverie  Electronic         100           1           1.0000\n",
       "4   4  The Silver Owls   Classical          85           3           0.8125"
      ]
     },
     "execution_count": 13,
     "metadata": {},
     "output_type": "execute_result"
    }
   ],
   "source": [
    "artists_df.head()"
   ]
  },
  {
   "cell_type": "markdown",
   "metadata": {},
   "source": [
    "# Tests"
   ]
  },
  {
   "cell_type": "code",
   "execution_count": 33,
   "metadata": {},
   "outputs": [],
   "source": [
    "artist_ids = list(artists_df['id'])"
   ]
  },
  {
   "cell_type": "code",
   "execution_count": 37,
   "metadata": {},
   "outputs": [
    {
     "name": "stdout",
     "output_type": "stream",
     "text": [
      "Testing crossover: pmx, mutation: swap, selection: tournament_selection\n",
      "Best fitness: 0.9559\n",
      "Testing crossover: pmx, mutation: swap, selection: ranking_selection\n",
      "Best fitness: 0.6027\n",
      "Testing crossover: pmx, mutation: inversion, selection: tournament_selection\n",
      "Best fitness: 0.9471\n",
      "Testing crossover: pmx, mutation: inversion, selection: ranking_selection\n",
      "Best fitness: 0.7429\n",
      "Testing crossover: pmx, mutation: insertion, selection: tournament_selection\n",
      "Best fitness: 0.9511\n",
      "Testing crossover: pmx, mutation: insertion, selection: ranking_selection\n",
      "Best fitness: 0.7513\n",
      "Testing crossover: ox, mutation: swap, selection: tournament_selection\n",
      "Best fitness: 0.9176\n",
      "Testing crossover: ox, mutation: swap, selection: ranking_selection\n",
      "Best fitness: 0.8599\n",
      "Testing crossover: ox, mutation: inversion, selection: tournament_selection\n",
      "Best fitness: 0.8976\n",
      "Testing crossover: ox, mutation: inversion, selection: ranking_selection\n",
      "Best fitness: 0.8636\n",
      "Testing crossover: ox, mutation: insertion, selection: tournament_selection\n",
      "Best fitness: 0.8940\n",
      "Testing crossover: ox, mutation: insertion, selection: ranking_selection\n",
      "Best fitness: 0.8479\n",
      "\n",
      "Best combination of parameters:\n",
      "Crossover: pmx\n",
      "Mutation: swap\n",
      "Selection: tournament_selection\n",
      "\n",
      "Best solution:\n",
      "\n",
      "Fitness: 0.9559\n",
      "[14, 21, 22, 5, 28, 1, 25, 23, 31, 7, 17, 20, 4, 13, 15, 32, 0, 2, 6, 27, 26, 8, 18, 19, 30, 34, 9, 29, 24, 16, 10, 12, 33, 11, 3]\n"
     ]
    }
   ],
   "source": [
    "# Define the methods for testing\n",
    "crossover_methods = ['pmx', 'ox']\n",
    "mutation_methods = ['swap', 'inversion', 'insertion']\n",
    "selection_methods = [tournament_selection, ranking_selection]\n",
    "\n",
    "# Set crossover and mutation probabilities\n",
    "xo_prob = 0.9\n",
    "mut_prob = 0.1 \n",
    "\n",
    "# Initialize variables to track the best results\n",
    "best_fitness = -float('inf')  # Start with a very low value\n",
    "best_combination = None  # To store the best combination of parameters\n",
    "best_solution = None  # To store the best solution\n",
    "\n",
    "# Iterate through all combinations of parameters\n",
    "for xo, mut, sel in product(crossover_methods, mutation_methods, selection_methods):\n",
    "    print(f\"Testing crossover: {xo}, mutation: {mut}, selection: {sel.__name__}\")\n",
    "\n",
    "    # Initialize the population for the current combination of parameters\n",
    "    pop = [\n",
    "        Solution(\n",
    "            random.sample(artist_ids, len(artist_ids)),\n",
    "            artists=artists,\n",
    "            conflict_matrix=conflict_matrix,\n",
    "            crossover_method=xo,\n",
    "            mutation_method=mut\n",
    "        )\n",
    "        for _ in range(200) \n",
    "    ]\n",
    "\n",
    "    # Run the genetic algorithm with the current population and parameters\n",
    "    current_best_solution = genetic_algorithm(\n",
    "        initial_population=pop,\n",
    "        max_gen=200,\n",
    "        selection_algorithm=sel,\n",
    "        maximization=True,\n",
    "        xo_prob=xo_prob,  \n",
    "        mut_prob=mut_prob,  \n",
    "        elitism=False,\n",
    "        verbose=False\n",
    "    )\n",
    "\n",
    "    # Get the fitness of the current best solution\n",
    "    current_fitness = current_best_solution.fitness()\n",
    "\n",
    "    print(f\"Best fitness: {current_fitness:.4f}\")\n",
    "\n",
    "    # If the current fitness is better than the best fitness so far, update the best results\n",
    "    if current_fitness > best_fitness:\n",
    "        best_fitness = current_fitness\n",
    "        best_combination = (xo, mut, sel)\n",
    "        best_solution = current_best_solution\n",
    "\n",
    "# After the loop, print the best combination and the best solution\n",
    "print(\"\\nBest combination of parameters:\")\n",
    "print(f\"Crossover: {best_combination[0]}\")\n",
    "print(f\"Mutation: {best_combination[1]}\")\n",
    "print(f\"Selection: {best_combination[2].__name__}\")\n",
    "\n",
    "# Print the best solution\n",
    "print(\"\\nBest solution:\")\n",
    "# Print the fitness of the best solution\n",
    "print(f\"\\nFitness: {best_solution.fitness():.4f}\")\n",
    "\n",
    "# Print the solution (the order of artists)\n",
    "print(best_solution)\n"
   ]
  },
  {
   "cell_type": "code",
   "execution_count": 29,
   "metadata": {},
   "outputs": [
    {
     "name": "stdout",
     "output_type": "stream",
     "text": [
      "Stage 1:\n",
      "  Slot 1: Velvet Pulse, Popularity: 35, Genre: Jazz\n",
      "  Slot 2: Static Mirage, Popularity: 94, Genre: Rock\n",
      "  Slot 3: Cosmic Frequency, Popularity: 53, Genre: Rock\n",
      "  Slot 4: The Jazz Nomads, Popularity: 64, Genre: Jazz\n",
      "  Slot 5: Blue Horizon, Popularity: 51, Genre: Pop\n",
      "  Slot 6: The Wandering Notes, Popularity: 84, Genre: Jazz\n",
      "  Slot 7: Rhythm Alchemy, Popularity: 94, Genre: Jazz\n",
      "\n",
      "Stage 2:\n",
      "  Slot 1: Phantom Groove, Popularity: 47, Genre: Hip-Hop\n",
      "  Slot 2: Shadow Cadence, Popularity: 66, Genre: Jazz\n",
      "  Slot 3: The Polyrhythm Syndicate, Popularity: 66, Genre: Jazz\n",
      "  Slot 4: Midnight Echo, Popularity: 75, Genre: Rock\n",
      "  Slot 5: Deep Resonance, Popularity: 90, Genre: Jazz\n",
      "  Slot 6: Aurora Skies, Popularity: 75, Genre: Pop\n",
      "  Slot 7: Lunar Spectrum, Popularity: 99, Genre: Rock\n",
      "\n",
      "Stage 3:\n",
      "  Slot 1: Mystic Rhythms, Popularity: 78, Genre: Classical\n",
      "  Slot 2: The Bassline Architects, Popularity: 61, Genre: Hip-Hop\n",
      "  Slot 3: Nightfall Sonata, Popularity: 84, Genre: Classical\n",
      "  Slot 4: Neon Reverie, Popularity: 100, Genre: Electronic\n",
      "  Slot 5: Electric Serpents, Popularity: 99, Genre: Electronic\n",
      "  Slot 6: Astral Tide, Popularity: 69, Genre: Electronic\n",
      "  Slot 7: Echo Chamber, Popularity: 98, Genre: Electronic\n",
      "\n",
      "Stage 4:\n",
      "  Slot 1: Velvet Underground, Popularity: 72, Genre: Rock\n",
      "  Slot 2: Solar Flare, Popularity: 78, Genre: Electronic\n",
      "  Slot 3: Hypnotic Echoes, Popularity: 77, Genre: Rock\n",
      "  Slot 4: Harmonic Dissonance, Popularity: 96, Genre: Classical\n",
      "  Slot 5: Crimson Harmony, Popularity: 20, Genre: Classical\n",
      "  Slot 6: Golden Ember, Popularity: 61, Genre: Rock\n",
      "  Slot 7: Cloud Nine Collective, Popularity: 97, Genre: Pop\n",
      "\n",
      "Stage 5:\n",
      "  Slot 1: Celestial Voyage, Popularity: 95, Genre: Electronic\n",
      "  Slot 2: Turbo Vortex, Popularity: 53, Genre: Rock\n",
      "  Slot 3: Parallel Dimension, Popularity: 58, Genre: Electronic\n",
      "  Slot 4: Synthwave Saints, Popularity: 94, Genre: Rock\n",
      "  Slot 5: The Sonic Drifters, Popularity: 88, Genre: Rock\n",
      "  Slot 6: The Silver Owls, Popularity: 85, Genre: Classical\n",
      "  Slot 7: Quantum Beat, Popularity: 96, Genre: Hip-Hop\n",
      "\n"
     ]
    }
   ],
   "source": [
    "# Number of stages and slots\n",
    "num_stages = 5\n",
    "num_slots = 7\n",
    "\n",
    "# Get the best solution (list of indices)\n",
    "best_artist_solution = [artists[i] for i in best_solution.representation]\n",
    "\n",
    "# Create a 2D list (5 stages x 7 slots) to represent the schedule\n",
    "schedule = [[None for _ in range(num_slots)] for _ in range(num_stages)]\n",
    "\n",
    "# Fill the schedule with the artists based on the best solution\n",
    "for stage in range(num_stages):\n",
    "    for slot in range(num_slots):\n",
    "        index = stage * num_slots + slot\n",
    "        schedule[stage][slot] = best_artist_solution[index]\n",
    "\n",
    "# Display the schedule\n",
    "for stage in range(num_stages):\n",
    "    print(f\"Stage {stage + 1}:\")\n",
    "    for slot in range(num_slots):\n",
    "        artist = schedule[stage][slot]\n",
    "        print(f\"  Slot {slot + 1}: {artist.name}, Popularity: {artist.popularity}, Genre: {artist.genre}\")\n",
    "    print()\n"
   ]
  }
 ],
 "metadata": {
  "kernelspec": {
   "display_name": "Python 3",
   "language": "python",
   "name": "python3"
  },
  "language_info": {
   "codemirror_mode": {
    "name": "ipython",
    "version": 3
   },
   "file_extension": ".py",
   "mimetype": "text/x-python",
   "name": "python",
   "nbconvert_exporter": "python",
   "pygments_lexer": "ipython3",
   "version": "3.13.2"
  }
 },
 "nbformat": 4,
 "nbformat_minor": 2
}
