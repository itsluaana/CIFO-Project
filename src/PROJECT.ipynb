{
 "cells": [
  {
   "cell_type": "markdown",
   "metadata": {},
   "source": [
    "# Import Libraries"
   ]
  },
  {
   "cell_type": "code",
   "execution_count": 1,
   "metadata": {},
   "outputs": [],
   "source": [
    "import sys\n",
    "sys.path.append('..')"
   ]
  },
  {
   "cell_type": "code",
   "execution_count": null,
   "metadata": {},
   "outputs": [],
   "source": [
    "import random\n",
    "from copy import deepcopy\n",
    "from lib.solution import Solution\n",
    "import pandas as pd"
   ]
  },
  {
   "cell_type": "markdown",
   "metadata": {},
   "source": [
    "# Import Data"
   ]
  },
  {
   "cell_type": "code",
   "execution_count": 4,
   "metadata": {},
   "outputs": [
    {
     "name": "stdout",
     "output_type": "stream",
     "text": [
      "   Unnamed: 0             name       genre  popularity\n",
      "0           0    Midnight Echo        Rock          75\n",
      "1           1      Solar Flare  Electronic          78\n",
      "2           2     Velvet Pulse        Jazz          35\n",
      "3           3     Neon Reverie  Electronic         100\n",
      "4           4  The Silver Owls   Classical          85\n",
      "\n",
      " Number of artists: 35\n"
     ]
    }
   ],
   "source": [
    "# Load artists data\n",
    "artists_df = pd.read_csv(r\"C:\\Users\\anama\\OneDrive\\Ambiente de Trabalho\\Mestrado\\S2\\CIFO\\data\\artists(in).csv\")\n",
    "\n",
    "# Preview the first few rows\n",
    "print(artists_df.head())\n",
    "\n",
    "print(f\"\\n Number of artists: {len(artists_df)}\")"
   ]
  },
  {
   "cell_type": "code",
   "execution_count": 5,
   "metadata": {},
   "outputs": [
    {
     "name": "stdout",
     "output_type": "stream",
     "text": [
      "   id             name       genre  popularity\n",
      "0   0    Midnight Echo        Rock          75\n",
      "1   1      Solar Flare  Electronic          78\n",
      "2   2     Velvet Pulse        Jazz          35\n",
      "3   3     Neon Reverie  Electronic         100\n",
      "4   4  The Silver Owls   Classical          85\n"
     ]
    }
   ],
   "source": [
    "# Rename the column\n",
    "artists_df.rename(columns={\"Unnamed: 0\": \"id\"}, inplace=True)\n",
    "\n",
    "# Confirm the change\n",
    "print(artists_df.head())"
   ]
  },
  {
   "cell_type": "code",
   "execution_count": 6,
   "metadata": {},
   "outputs": [],
   "source": [
    "class Artist:\n",
    "    def __init__(self, id, name, popularity, genre):\n",
    "        self.id = id\n",
    "        self.name = name\n",
    "        self.popularity = popularity\n",
    "        self.genre = genre\n",
    "\n",
    "    def __repr__(self):\n",
    "        return f\"{self.name} (Pop: {self.popularity}, Genre: {self.genre})\"\n",
    "\n",
    "# Convert to list of Artist objects\n",
    "artists = [\n",
    "    Artist(row[\"id\"], row[\"name\"], row[\"popularity\"], row[\"genre\"])\n",
    "    for _, row in artists_df.iterrows()\n",
    "]"
   ]
  },
  {
   "cell_type": "code",
   "execution_count": 7,
   "metadata": {},
   "outputs": [
    {
     "name": "stdout",
     "output_type": "stream",
     "text": [
      "Conflict matrix shape: (35, 35)\n"
     ]
    }
   ],
   "source": [
    "# Try to load with headers and index\n",
    "conflict_df = pd.read_csv(r\"C:\\Users\\anama\\OneDrive\\Ambiente de Trabalho\\Mestrado\\S2\\CIFO\\data\\conflicts(in).csv\", index_col=0)\n",
    "\n",
    "# Convert to NumPy matrix for easier computation later\n",
    "conflict_matrix = conflict_df.to_numpy()\n",
    "\n",
    "# Check matrix size\n",
    "print(\"Conflict matrix shape:\", conflict_matrix.shape)"
   ]
  },
  {
   "cell_type": "code",
   "execution_count": null,
   "metadata": {},
   "outputs": [],
   "source": []
  }
 ],
 "metadata": {
  "kernelspec": {
   "display_name": "Python 3",
   "language": "python",
   "name": "python3"
  },
  "language_info": {
   "codemirror_mode": {
    "name": "ipython",
    "version": 3
   },
   "file_extension": ".py",
   "mimetype": "text/x-python",
   "name": "python",
   "nbconvert_exporter": "python",
   "pygments_lexer": "ipython3",
   "version": "3.13.2"
  }
 },
 "nbformat": 4,
 "nbformat_minor": 2
}
