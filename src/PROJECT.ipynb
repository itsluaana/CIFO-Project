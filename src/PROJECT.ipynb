{
 "cells": [
  {
   "cell_type": "markdown",
   "metadata": {},
   "source": [
    "# Import Libraries"
   ]
  },
  {
   "cell_type": "code",
   "execution_count": 1,
   "metadata": {},
   "outputs": [
    {
     "name": "stdout",
     "output_type": "stream",
     "text": [
      "Note: you may need to restart the kernel to use updated packages.\n"
     ]
    },
    {
     "name": "stderr",
     "output_type": "stream",
     "text": [
      "ERROR: Could not open requirements file: [Errno 2] No such file or directory: 'requirements.txt'\n"
     ]
    }
   ],
   "source": [
    "pip install -r requirements.txt\n"
   ]
  },
  {
   "cell_type": "code",
   "execution_count": 2,
   "metadata": {},
   "outputs": [],
   "source": [
    "import sys\n",
    "import os\n",
    "\n",
    "# Add the parent directory of 'src' to the path\n",
    "sys.path.append(os.path.abspath('..'))"
   ]
  },
  {
   "cell_type": "code",
   "execution_count": 3,
   "metadata": {},
   "outputs": [],
   "source": [
    "import random\n",
    "from copy import deepcopy\n",
    "import pandas as pd\n",
    "from sklearn.preprocessing import MinMaxScaler\n",
    "from itertools import product\n",
    "import matplotlib.pyplot as plt\n",
    "\n",
    "from lib.Projectsolution import Solution\n",
    "import importlib\n",
    "import lib.genetic_algorithm\n",
    "import lib.crossover\n",
    "import lib.mutation\n",
    "import lib.fitness\n",
    "import lib.selection\n",
    "import lib.Projectsolution\n",
    "\n",
    "importlib.reload(lib.genetic_algorithm)\n",
    "importlib.reload(lib.crossover)\n",
    "importlib.reload(lib.mutation)\n",
    "importlib.reload(lib.fitness)\n",
    "importlib.reload(lib.selection)\n",
    "importlib.reload(lib.Projectsolution)\n",
    "\n",
    "from lib.genetic_algorithm import genetic_algorithm\n",
    "from lib.crossover import pmx_crossover, order_crossover\n",
    "from lib.mutation import swap_mutation, inversion_mutation, insertion_mutation, prime_slot_mutation, slot_shuffle_mutation\n",
    "from lib.fitness import fitness\n",
    "from lib.selection import tournament_selection, ranking_selection\n",
    "from lib.Projectsolution import Solution\n",
    "\n"
   ]
  },
  {
   "cell_type": "markdown",
   "metadata": {},
   "source": [
    "# Import Data"
   ]
  },
  {
   "cell_type": "code",
   "execution_count": 4,
   "metadata": {},
   "outputs": [
    {
     "name": "stdout",
     "output_type": "stream",
     "text": [
      "   Unnamed: 0             name       genre  popularity\n",
      "0           0    Midnight Echo        Rock          75\n",
      "1           1      Solar Flare  Electronic          78\n",
      "2           2     Velvet Pulse        Jazz          35\n",
      "3           3     Neon Reverie  Electronic         100\n",
      "4           4  The Silver Owls   Classical          85\n",
      "\n",
      " Number of artists: 35\n"
     ]
    }
   ],
   "source": [
    "# Load artists data\n",
    "artists_df = pd.read_csv(r\"C:\\Users\\anama\\OneDrive\\Ambiente de Trabalho\\Mestrado\\S2\\CIFO\\data\\artists(in).csv\")\n",
    "\n",
    "# Preview the first few rows\n",
    "print(artists_df.head())\n",
    "\n",
    "print(f\"\\n Number of artists: {len(artists_df)}\")"
   ]
  },
  {
   "cell_type": "code",
   "execution_count": 5,
   "metadata": {},
   "outputs": [
    {
     "name": "stdout",
     "output_type": "stream",
     "text": [
      "   id             name       genre  popularity\n",
      "0   0    Midnight Echo        Rock          75\n",
      "1   1      Solar Flare  Electronic          78\n",
      "2   2     Velvet Pulse        Jazz          35\n",
      "3   3     Neon Reverie  Electronic         100\n",
      "4   4  The Silver Owls   Classical          85\n"
     ]
    }
   ],
   "source": [
    "# Rename the column\n",
    "artists_df.rename(columns={\"Unnamed: 0\": \"id\"}, inplace=True)\n",
    "\n",
    "# Confirm the change\n",
    "print(artists_df.head())"
   ]
  },
  {
   "cell_type": "code",
   "execution_count": 6,
   "metadata": {},
   "outputs": [
    {
     "name": "stdout",
     "output_type": "stream",
     "text": [
      "        genre  genre_code\n",
      "0        Rock           0\n",
      "1  Electronic           1\n",
      "2        Jazz           2\n",
      "3  Electronic           1\n",
      "4   Classical           3\n"
     ]
    }
   ],
   "source": [
    "# Convert the 'genre' column in the DataFrame into numeric codes\n",
    "# 'genre_code' will contain the numeric representation of each genre\n",
    "# 'genre_uniques' will contain the list of unique genres in the order they were assigned\n",
    "artists_df['genre_code'], genre_uniques = pd.factorize(artists_df['genre'])\n",
    "\n",
    "# Display the first few rows of the original 'genre' column and the new 'genre_code' column\n",
    "print(artists_df[['genre', 'genre_code']].head())"
   ]
  },
  {
   "cell_type": "code",
   "execution_count": 7,
   "metadata": {},
   "outputs": [],
   "source": [
    "# Normalize the 'popularity' column using MinMaxScaler\n",
    "popularity = artists_df[['popularity']].values  \n",
    "scaler = MinMaxScaler()\n",
    "artists_df['popularity_norm'] = scaler.fit_transform(popularity)\n"
   ]
  },
  {
   "cell_type": "code",
   "execution_count": 8,
   "metadata": {},
   "outputs": [],
   "source": [
    "# Define a class to represent each artist with relevant attributes\n",
    "class Artist:\n",
    "    def __init__(self, id, name, popularity, genre, genre_code, popularity_norm):\n",
    "        # Initialize artist attributes with provided values\n",
    "        self.id = id\n",
    "        self.name = name\n",
    "        self.popularity = popularity\n",
    "        self.genre = genre\n",
    "        self.genre_code = genre_code\n",
    "        self.popularity_norm = popularity_norm\n",
    "\n",
    "    def __repr__(self):\n",
    "        # Define how the artist object will be displayed when printed\n",
    "        return f\"{self.name} (Pop: {self.popularity}, Genre: {self.genre}, NormPop: {self.popularity_norm})\"\n",
    "\n",
    "\n",
    "# Create a list of Artist objects by iterating over each row in the DataFrame\n",
    "artists = [\n",
    "    Artist(row[\"id\"], row[\"name\"], row[\"popularity\"], row[\"genre\"], row[\"genre_code\"], row['popularity_norm'])\n",
    "    for _, row in artists_df.iterrows()\n",
    "]"
   ]
  },
  {
   "cell_type": "code",
   "execution_count": 9,
   "metadata": {},
   "outputs": [
    {
     "name": "stdout",
     "output_type": "stream",
     "text": [
      "Conflict matrix shape: (35, 35)\n"
     ]
    }
   ],
   "source": [
    "# Load conflic matrix\n",
    "conflict_df = pd.read_csv(r\"C:\\Users\\anama\\OneDrive\\Ambiente de Trabalho\\Mestrado\\S2\\CIFO\\data\\conflicts(in).csv\", index_col=0)\n",
    "\n",
    "# Convert to NumPy matrix for easier computation later\n",
    "conflict_matrix = conflict_df.to_numpy()\n",
    "\n",
    "# Check matrix size\n",
    "print(\"Conflict matrix shape:\", conflict_matrix.shape)"
   ]
  },
  {
   "cell_type": "code",
   "execution_count": 10,
   "metadata": {},
   "outputs": [
    {
     "data": {
      "text/plain": [
       "array([[0. , 0. , 0. , 0.2, 0.5],\n",
       "       [0. , 0. , 0. , 1. , 0. ],\n",
       "       [0. , 0. , 0. , 1. , 0.5],\n",
       "       [0.2, 1. , 1. , 0. , 0.2],\n",
       "       [0.5, 0. , 0.5, 0.2, 0. ]])"
      ]
     },
     "execution_count": 10,
     "metadata": {},
     "output_type": "execute_result"
    }
   ],
   "source": [
    "conflict_matrix[:5, :5]  "
   ]
  },
  {
   "cell_type": "code",
   "execution_count": 11,
   "metadata": {},
   "outputs": [
    {
     "data": {
      "application/vnd.microsoft.datawrangler.viewer.v0+json": {
       "columns": [
        {
         "name": "index",
         "rawType": "int64",
         "type": "integer"
        },
        {
         "name": "id",
         "rawType": "int64",
         "type": "integer"
        },
        {
         "name": "name",
         "rawType": "object",
         "type": "string"
        },
        {
         "name": "genre",
         "rawType": "object",
         "type": "string"
        },
        {
         "name": "popularity",
         "rawType": "int64",
         "type": "integer"
        },
        {
         "name": "genre_code",
         "rawType": "int64",
         "type": "integer"
        },
        {
         "name": "popularity_norm",
         "rawType": "float64",
         "type": "float"
        }
       ],
       "conversionMethod": "pd.DataFrame",
       "ref": "19c2a147-9e24-4a62-816e-4e5dff0408a2",
       "rows": [
        [
         "0",
         "0",
         "Midnight Echo",
         "Rock",
         "75",
         "0",
         "0.6875"
        ],
        [
         "1",
         "1",
         "Solar Flare",
         "Electronic",
         "78",
         "1",
         "0.7250000000000001"
        ],
        [
         "2",
         "2",
         "Velvet Pulse",
         "Jazz",
         "35",
         "2",
         "0.1875"
        ],
        [
         "3",
         "3",
         "Neon Reverie",
         "Electronic",
         "100",
         "1",
         "1.0"
        ],
        [
         "4",
         "4",
         "The Silver Owls",
         "Classical",
         "85",
         "3",
         "0.8125"
        ]
       ],
       "shape": {
        "columns": 6,
        "rows": 5
       }
      },
      "text/html": [
       "<div>\n",
       "<style scoped>\n",
       "    .dataframe tbody tr th:only-of-type {\n",
       "        vertical-align: middle;\n",
       "    }\n",
       "\n",
       "    .dataframe tbody tr th {\n",
       "        vertical-align: top;\n",
       "    }\n",
       "\n",
       "    .dataframe thead th {\n",
       "        text-align: right;\n",
       "    }\n",
       "</style>\n",
       "<table border=\"1\" class=\"dataframe\">\n",
       "  <thead>\n",
       "    <tr style=\"text-align: right;\">\n",
       "      <th></th>\n",
       "      <th>id</th>\n",
       "      <th>name</th>\n",
       "      <th>genre</th>\n",
       "      <th>popularity</th>\n",
       "      <th>genre_code</th>\n",
       "      <th>popularity_norm</th>\n",
       "    </tr>\n",
       "  </thead>\n",
       "  <tbody>\n",
       "    <tr>\n",
       "      <th>0</th>\n",
       "      <td>0</td>\n",
       "      <td>Midnight Echo</td>\n",
       "      <td>Rock</td>\n",
       "      <td>75</td>\n",
       "      <td>0</td>\n",
       "      <td>0.6875</td>\n",
       "    </tr>\n",
       "    <tr>\n",
       "      <th>1</th>\n",
       "      <td>1</td>\n",
       "      <td>Solar Flare</td>\n",
       "      <td>Electronic</td>\n",
       "      <td>78</td>\n",
       "      <td>1</td>\n",
       "      <td>0.7250</td>\n",
       "    </tr>\n",
       "    <tr>\n",
       "      <th>2</th>\n",
       "      <td>2</td>\n",
       "      <td>Velvet Pulse</td>\n",
       "      <td>Jazz</td>\n",
       "      <td>35</td>\n",
       "      <td>2</td>\n",
       "      <td>0.1875</td>\n",
       "    </tr>\n",
       "    <tr>\n",
       "      <th>3</th>\n",
       "      <td>3</td>\n",
       "      <td>Neon Reverie</td>\n",
       "      <td>Electronic</td>\n",
       "      <td>100</td>\n",
       "      <td>1</td>\n",
       "      <td>1.0000</td>\n",
       "    </tr>\n",
       "    <tr>\n",
       "      <th>4</th>\n",
       "      <td>4</td>\n",
       "      <td>The Silver Owls</td>\n",
       "      <td>Classical</td>\n",
       "      <td>85</td>\n",
       "      <td>3</td>\n",
       "      <td>0.8125</td>\n",
       "    </tr>\n",
       "  </tbody>\n",
       "</table>\n",
       "</div>"
      ],
      "text/plain": [
       "   id             name       genre  popularity  genre_code  popularity_norm\n",
       "0   0    Midnight Echo        Rock          75           0           0.6875\n",
       "1   1      Solar Flare  Electronic          78           1           0.7250\n",
       "2   2     Velvet Pulse        Jazz          35           2           0.1875\n",
       "3   3     Neon Reverie  Electronic         100           1           1.0000\n",
       "4   4  The Silver Owls   Classical          85           3           0.8125"
      ]
     },
     "execution_count": 11,
     "metadata": {},
     "output_type": "execute_result"
    }
   ],
   "source": [
    "artists_df.head()"
   ]
  },
  {
   "cell_type": "markdown",
   "metadata": {},
   "source": [
    "# Tests"
   ]
  },
  {
   "cell_type": "code",
   "execution_count": 12,
   "metadata": {},
   "outputs": [],
   "source": [
    "# Create a list with all the values from the 'id' column of the DataFrame artists_df\n",
    "artist_ids = list(artists_df['id'])\n",
    "\n",
    "# Initialize an empty list to store the fitness values throughout the evolutionary process\n",
    "fitness_history = []"
   ]
  },
  {
   "cell_type": "code",
   "execution_count": 14,
   "metadata": {},
   "outputs": [
    {
     "ename": "",
     "evalue": "",
     "output_type": "error",
     "traceback": [
      "\u001b[1;31mCannot execute code, session has been disposed. Please try restarting the Kernel."
     ]
    },
    {
     "ename": "",
     "evalue": "",
     "output_type": "error",
     "traceback": [
      "\u001b[1;31mCannot execute code, session has been disposed. Please try restarting the Kernel. \n",
      "\u001b[1;31mView Jupyter <a href='command:jupyter.viewOutput'>log</a> for further details."
     ]
    }
   ],
   "source": [
    "from multiprocessing import Pool, cpu_count\n",
    "from itertools import product\n",
    "\n",
    "# Define parameter grids\n",
    "pop_sizes = [50, 100, 200]\n",
    "max_gen_values = [50, 100, 200]\n",
    "xo_probs = [0.7, 0.9]\n",
    "mut_probs = [0.05, 0.2]\n",
    "elitism_values = [True, False]\n",
    "population_init_methods = ['random', 'sequential']\n",
    "tournament_ks = [3, 5]\n",
    "ranking_pressures = [1.5, 1.7]\n",
    "crossover_methods = ['pmx', 'ox']\n",
    "mutation_methods = ['insertion', 'prime', 'shuffle']\n",
    "\n",
    "# Define selection methods with parameters\n",
    "selection_methods = [(tournament_selection, {'k': k}) for k in tournament_ks] + \\\n",
    "                    [(ranking_selection, {'pressure': p}) for p in ranking_pressures]\n",
    "\n",
    "# Combine all into a grid\n",
    "grid = list(product(\n",
    "    pop_sizes, max_gen_values, xo_probs, mut_probs,\n",
    "    elitism_values, population_init_methods,\n",
    "    crossover_methods, mutation_methods,\n",
    "    selection_methods\n",
    "))\n",
    "\n",
    "# Evaluation function\n",
    "def evaluate_combination(params):\n",
    "    pop_size, max_gen, xo_prob, mut_prob, elitism, pop_init, xo_method, mut_method, (sel_func, sel_params) = params\n",
    "\n",
    "    # Initialize population\n",
    "    if pop_init == 'random':\n",
    "        initial_population = [\n",
    "            Solution(random.sample(artist_ids, len(artist_ids)), artists=artists,\n",
    "                     conflict_matrix=conflict_matrix, crossover_method=xo_method,\n",
    "                     mutation_method=mut_method)\n",
    "            for _ in range(pop_size)\n",
    "        ]\n",
    "    elif pop_init == 'sequential':\n",
    "        initial_population = [\n",
    "            Solution(artist_ids[:], artists=artists,\n",
    "                     conflict_matrix=conflict_matrix, crossover_method=xo_method,\n",
    "                     mutation_method=mut_method)\n",
    "            for _ in range(pop_size)\n",
    "        ]\n",
    "    \n",
    "    # Run the genetic algorithm\n",
    "    best_solution, fitness_over_time = genetic_algorithm(\n",
    "        initial_population=initial_population,\n",
    "        max_gen=max_gen,\n",
    "        selection_algorithm=sel_func,\n",
    "        maximization=True,\n",
    "        xo_prob=xo_prob,\n",
    "        mut_prob=mut_prob,\n",
    "        elitism=elitism,\n",
    "        verbose=False,\n",
    "        track_history=True,\n",
    "        **sel_params\n",
    "    )\n",
    "    \n",
    "    return {\n",
    "        'fitness': best_solution.fitness(),\n",
    "        'solution': best_solution,\n",
    "        'history': fitness_over_time,\n",
    "        'params': {\n",
    "            'pop_size': pop_size, 'max_gen': max_gen, 'xo_prob': xo_prob, 'mut_prob': mut_prob,\n",
    "            'elitism': elitism, 'pop_init': pop_init, 'xo_method': xo_method,\n",
    "            'mut_method': mut_method, 'selection': sel_func.__name__, 'sel_params': sel_params\n",
    "        }\n",
    "    }\n",
    "\n",
    "# Use multiprocessing pool\n",
    "if __name__ == '__main__':\n",
    "    with Pool(processes=cpu_count()) as pool:\n",
    "        results = pool.map(evaluate_combination, grid)\n",
    "\n",
    "    # Find the best result\n",
    "    best_result = max(results, key=lambda x: x['fitness'])\n",
    "\n",
    "    # Print and plot the best\n",
    "    print(\"\\nBest Parameters:\")\n",
    "    for key, value in best_result['params'].items():\n",
    "        print(f\"{key}: {value}\")\n",
    "    \n",
    "    print(f\"\\nBest Fitness: {best_result['fitness']:.4f}\")\n",
    "    print(f\"Best Solution:\\n{best_result['solution']}\")\n",
    "\n",
    "    plt.plot(best_result['history'])\n",
    "    plt.title(\"Best Fitness Over Generations\")\n",
    "    plt.xlabel(\"Generation\")\n",
    "    plt.ylabel(\"Fitness\")\n",
    "    plt.grid(True)\n",
    "    plt.show()\n"
   ]
  },
  {
   "cell_type": "code",
   "execution_count": null,
   "metadata": {},
   "outputs": [],
   "source": [
    "# Define the methods for testing\n",
    "crossover_methods = ['pmx', 'ox']\n",
    "mutation_methods = ['insertion', 'prime','shuffle']\n",
    "selection_methods = [tournament_selection, ranking_selection]\n",
    "selection_methods = [\n",
    "    (tournament_selection, {'k': 3}),\n",
    "    (ranking_selection, {'pressure': 1.5}),\n",
    "]\n",
    "\n",
    "# Set crossover and mutation probabilities\n",
    "xo_prob = 0.9\n",
    "mut_prob = 0.1\n",
    "\n",
    "# Initialize variables to track the best results\n",
    "best_fitness = -float('inf')  # Start with a very low value\n",
    "best_combination = None  # To store the best combination of parameters\n",
    "best_solution = None  # To store the best solution\n",
    "\n",
    "# Iterate through all combinations of parameters\n",
    "for xo, mut, sel in product(crossover_methods, mutation_methods, selection_methods):\n",
    "    print(f\"Testing crossover: {xo}, mutation: {mut}, selection: {sel.__name__}\")\n",
    "\n",
    "    # Initialize the population for the current combination of parameters\n",
    "    pop = [\n",
    "        Solution(\n",
    "            random.sample(artist_ids, len(artist_ids)),\n",
    "            artists=artists,\n",
    "            conflict_matrix=conflict_matrix,\n",
    "            crossover_method=xo,\n",
    "            mutation_method=mut\n",
    "        )\n",
    "        for _ in range(100) \n",
    "    ]\n",
    "\n",
    "    # Run the genetic algorithm with the current population and parameters\n",
    "    current_best_solution, fitness_over_time = genetic_algorithm(\n",
    "        initial_population=pop,\n",
    "        max_gen=100,\n",
    "        selection_algorithm=sel,\n",
    "        maximization=True,\n",
    "        xo_prob=xo_prob,  \n",
    "        mut_prob=mut_prob,  \n",
    "        elitism=True,\n",
    "        verbose=False,\n",
    "        track_history=True # Track fitness per generation\n",
    "    )\n",
    "\n",
    "    # Get the fitness of the current best solution\n",
    "    current_fitness = current_best_solution.fitness()\n",
    "\n",
    "    print(f\"Best fitness: {current_fitness:.4f}\")\n",
    "\n",
    "    # If the current fitness is better than the best fitness so far, update the best results\n",
    "    if current_fitness > best_fitness:\n",
    "        best_fitness = current_fitness\n",
    "        best_combination = (xo, mut, sel)\n",
    "        best_solution = current_best_solution\n",
    "\n",
    "    # Plot fitness over time to check convergence behavior\n",
    "    plt.plot(fitness_over_time)\n",
    "    plt.title(f\"Fitness over Generations ({xo}, {mut}, {sel.__name__})\")\n",
    "    plt.xlabel(\"Generation\")\n",
    "    plt.ylabel(\"Fitness\")\n",
    "    plt.grid(True)\n",
    "    plt.show()\n",
    "\n",
    "# After the loop, print the best combination and the best solution\n",
    "print(\"\\nBest combination of parameters:\")\n",
    "print(f\"Crossover: {best_combination[0]}\")\n",
    "print(f\"Mutation: {best_combination[1]}\")\n",
    "print(f\"Selection: {best_combination[2].__name__}\")\n",
    "\n",
    "# Print the best solution\n",
    "print(\"\\nBest solution:\")\n",
    "# Print the fitness of the best solution\n",
    "print(f\"\\nFitness: {best_solution.fitness():.4f}\")\n",
    "\n",
    "# Print the solution (the order of artists)\n",
    "print(best_solution)\n"
   ]
  },
  {
   "cell_type": "code",
   "execution_count": 21,
   "metadata": {},
   "outputs": [
    {
     "name": "stdout",
     "output_type": "stream",
     "text": [
      "Stage 1:\n",
      "  Slot 1: Golden Ember, Popularity: 61, Genre: Rock\n",
      "  Slot 2: Turbo Vortex, Popularity: 53, Genre: Rock\n",
      "  Slot 3: Neon Reverie, Popularity: 100, Genre: Electronic\n",
      "  Slot 4: Velvet Underground, Popularity: 72, Genre: Rock\n",
      "  Slot 5: Cosmic Frequency, Popularity: 53, Genre: Rock\n",
      "  Slot 6: Shadow Cadence, Popularity: 66, Genre: Jazz\n",
      "  Slot 7: Synthwave Saints, Popularity: 94, Genre: Rock\n",
      "\n",
      "Stage 2:\n",
      "  Slot 1: The Jazz Nomads, Popularity: 64, Genre: Jazz\n",
      "  Slot 2: Velvet Pulse, Popularity: 35, Genre: Jazz\n",
      "  Slot 3: The Bassline Architects, Popularity: 61, Genre: Hip-Hop\n",
      "  Slot 4: Blue Horizon, Popularity: 51, Genre: Pop\n",
      "  Slot 5: The Wandering Notes, Popularity: 84, Genre: Jazz\n",
      "  Slot 6: Phantom Groove, Popularity: 47, Genre: Hip-Hop\n",
      "  Slot 7: Deep Resonance, Popularity: 90, Genre: Jazz\n",
      "\n",
      "Stage 3:\n",
      "  Slot 1: Quantum Beat, Popularity: 96, Genre: Hip-Hop\n",
      "  Slot 2: Static Mirage, Popularity: 94, Genre: Rock\n",
      "  Slot 3: Crimson Harmony, Popularity: 20, Genre: Classical\n",
      "  Slot 4: Celestial Voyage, Popularity: 95, Genre: Electronic\n",
      "  Slot 5: Parallel Dimension, Popularity: 58, Genre: Electronic\n",
      "  Slot 6: Echo Chamber, Popularity: 98, Genre: Electronic\n",
      "  Slot 7: Electric Serpents, Popularity: 99, Genre: Electronic\n",
      "\n",
      "Stage 4:\n",
      "  Slot 1: Solar Flare, Popularity: 78, Genre: Electronic\n",
      "  Slot 2: Astral Tide, Popularity: 69, Genre: Electronic\n",
      "  Slot 3: Hypnotic Echoes, Popularity: 77, Genre: Rock\n",
      "  Slot 4: Harmonic Dissonance, Popularity: 96, Genre: Classical\n",
      "  Slot 5: Aurora Skies, Popularity: 75, Genre: Pop\n",
      "  Slot 6: The Silver Owls, Popularity: 85, Genre: Classical\n",
      "  Slot 7: Lunar Spectrum, Popularity: 99, Genre: Rock\n",
      "\n",
      "Stage 5:\n",
      "  Slot 1: Mystic Rhythms, Popularity: 78, Genre: Classical\n",
      "  Slot 2: Nightfall Sonata, Popularity: 84, Genre: Classical\n",
      "  Slot 3: Rhythm Alchemy, Popularity: 94, Genre: Jazz\n",
      "  Slot 4: The Polyrhythm Syndicate, Popularity: 66, Genre: Jazz\n",
      "  Slot 5: The Sonic Drifters, Popularity: 88, Genre: Rock\n",
      "  Slot 6: Midnight Echo, Popularity: 75, Genre: Rock\n",
      "  Slot 7: Cloud Nine Collective, Popularity: 97, Genre: Pop\n",
      "\n"
     ]
    }
   ],
   "source": [
    "# Number of stages and slots\n",
    "num_stages = 5\n",
    "num_slots = 7\n",
    "\n",
    "# Get the best solution (list of indices)\n",
    "best_artist_solution = [artists[i] for i in best_solution.representation]\n",
    "\n",
    "# Create a 2D list (5 stages x 7 slots) to represent the schedule\n",
    "schedule = [[None for _ in range(num_slots)] for _ in range(num_stages)]\n",
    "\n",
    "# Fill the schedule with the artists based on the best solution\n",
    "for stage in range(num_stages):\n",
    "    for slot in range(num_slots):\n",
    "        index = stage * num_slots + slot\n",
    "        schedule[stage][slot] = best_artist_solution[index]\n",
    "\n",
    "# Display the schedule\n",
    "for stage in range(num_stages):\n",
    "    print(f\"Stage {stage + 1}:\")\n",
    "    for slot in range(num_slots):\n",
    "        artist = schedule[stage][slot]\n",
    "        print(f\"  Slot {slot + 1}: {artist.name}, Popularity: {artist.popularity}, Genre: {artist.genre}\")\n",
    "    print()\n"
   ]
  }
 ],
 "metadata": {
  "kernelspec": {
   "display_name": "Python 3",
   "language": "python",
   "name": "python3"
  },
  "language_info": {
   "codemirror_mode": {
    "name": "ipython",
    "version": 3
   },
   "file_extension": ".py",
   "mimetype": "text/x-python",
   "name": "python",
   "nbconvert_exporter": "python",
   "pygments_lexer": "ipython3",
   "version": "3.11.0"
  }
 },
 "nbformat": 4,
 "nbformat_minor": 2
}
